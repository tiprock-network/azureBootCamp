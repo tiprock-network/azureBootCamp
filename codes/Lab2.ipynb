{
  "nbformat": 4,
  "nbformat_minor": 0,
  "metadata": {
    "colab": {
      "provenance": []
    },
    "kernelspec": {
      "name": "python3",
      "display_name": "Python 3"
    },
    "language_info": {
      "name": "python"
    }
  },
  "cells": [
    {
      "cell_type": "markdown",
      "source": [
        "#Working with Azure Speech Service\n",
        "\n",
        "In this short notebook lab session. You will be guided on how to set up your project from the Azure portal to your notebook. Welcome to the second part of this session, happy you are growing stronger 🏋️‍♀️ 🏋️‍♂️"
      ],
      "metadata": {
        "id": "sRoxUEWKlM01"
      }
    },
    {
      "cell_type": "markdown",
      "source": [
        "## 1. 🛠️ Set up your Azure Speech Resource\n",
        "* Go over to speech service on Azure https://portal.azure.com/#create/Microsoft.CognitiveServicesSpeechServices\n",
        "* Create your resource, selecting a new or existing resource group, make the region remain as per the default, provide a relevant name then JUST HEAD ON STRAIGHT FOR <U><B>Review + new</B></u>\n",
        "* Copy your endpoints and keys somewhere safe (make sure to delete your resource immediately or regenerate keys if you want work for ONLY an extra hour, after all the labs today [AFTER LABS]) - This for both safety and saving reasons."
      ],
      "metadata": {
        "id": "0oQwbZEnl58f"
      }
    },
    {
      "cell_type": "markdown",
      "source": [
        "## 2. ⬇️Install the required necessary libraries\n",
        "In this case we will use the libraries connected to \tazure-cognitiveservices-speech"
      ],
      "metadata": {
        "id": "CGtYyDh8nwLa"
      }
    },
    {
      "cell_type": "code",
      "execution_count": null,
      "metadata": {
        "colab": {
          "base_uri": "https://localhost:8080/"
        },
        "id": "YEKr5iAglIj9",
        "outputId": "b1b82f29-e142-4258-e820-68850252600e"
      },
      "outputs": [
        {
          "output_type": "stream",
          "name": "stdout",
          "text": [
            "Requirement already satisfied: azure-cognitiveservices-speech in /usr/local/lib/python3.10/dist-packages (1.34.0)\n"
          ]
        }
      ],
      "source": [
        "!pip install \tazure-cognitiveservices-speech\n"
      ]
    },
    {
      "cell_type": "markdown",
      "source": [
        "# 3. Install an important app that you love that can do voice recording or just simply use your phone to record something, anything that is English of course 🙂\n",
        "\n",
        "* Please insert your headset or connect your ear pods and make sure they have a mic on.\n",
        "* Record a .wav file in under 15 sec to 50 sec. (my preference, don't do something like a 30 minutes recording.)\n",
        "* Save it in your project root folder."
      ],
      "metadata": {
        "id": "z_6aLmmfpWiu"
      }
    },
    {
      "cell_type": "markdown",
      "source": [
        "## 3. 🧰Create the speech to text function"
      ],
      "metadata": {
        "id": "4OfwL_L4oeUs"
      }
    },
    {
      "cell_type": "code",
      "source": [
        "import os\n",
        "import azure.cognitiveservices.speech as speechsdk\n",
        "\n",
        "\n",
        "def recognize_speech():\n",
        "    # This example requires environment variables named \"SPEECH_KEY\" and \"SPEECH_REGION\" in that respect\n",
        "\n",
        "    speech_config = speechsdk.SpeechConfig(subscription=\"e00a5a2d4c6545be8f1ea2f6bac1f260\", region=\"eastus\")\n",
        "    speech_config.speech_recognition_language=\"en-KE\" #this is put in en-KE because we are in Kenya\n",
        "    audio_config = speechsdk.AudioConfig(filename=\"fastfoodNairobi.wav\")\n",
        "    speech_recognizer = speechsdk.SpeechRecognizer(speech_config=speech_config, audio_config=audio_config)\n",
        "\n",
        "    result = speech_recognizer.recognize_once_async().get()\n",
        "    return result\n",
        "\n",
        "print(recognize_speech().text)"
      ],
      "metadata": {
        "colab": {
          "base_uri": "https://localhost:8080/"
        },
        "id": "VLQ0hd5Modu9",
        "outputId": "87bbec54-e45f-4dd7-97cc-131cd2ba498e"
      },
      "execution_count": null,
      "outputs": [
        {
          "output_type": "stream",
          "name": "stdout",
          "text": [
            "\n"
          ]
        }
      ]
    }
  ]
}